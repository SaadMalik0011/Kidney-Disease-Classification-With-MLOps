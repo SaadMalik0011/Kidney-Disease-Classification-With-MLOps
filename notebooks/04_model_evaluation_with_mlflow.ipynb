{
 "cells": [
  {
   "cell_type": "markdown",
   "metadata": {},
   "source": [
    "```python\n",
    "import dagshub\n",
    "dagshub.init(repo_owner='SaadMalik0011', repo_name='Kidney-Disease-Classification-With-MLOps', mlflow=True)\n",
    "\n",
    "import mlflow\n",
    "with mlflow.start_run():\n",
    "  mlflow.log_param('parameter name', 'value')\n",
    "  mlflow.log_metric('metric name', 1)\n",
    "  ```"
   ]
  },
  {
   "cell_type": "code",
   "execution_count": 4,
   "metadata": {},
   "outputs": [],
   "source": [
    "import os"
   ]
  },
  {
   "cell_type": "code",
   "execution_count": 5,
   "metadata": {},
   "outputs": [
    {
     "data": {
      "text/plain": [
       "'c:\\\\Users\\\\PMLS\\\\Desktop\\\\Jupyter notebook\\\\Campusx Codes\\\\Deep-Learning-Project\\\\cnnclassifier\\\\notebooks'"
      ]
     },
     "execution_count": 5,
     "metadata": {},
     "output_type": "execute_result"
    }
   ],
   "source": [
    "%pwd"
   ]
  },
  {
   "cell_type": "code",
   "execution_count": 6,
   "metadata": {},
   "outputs": [],
   "source": [
    "os.chdir(\"../\")"
   ]
  },
  {
   "cell_type": "code",
   "execution_count": 7,
   "metadata": {},
   "outputs": [
    {
     "data": {
      "text/plain": [
       "'c:\\\\Users\\\\PMLS\\\\Desktop\\\\Jupyter notebook\\\\Campusx Codes\\\\Deep-Learning-Project\\\\cnnclassifier'"
      ]
     },
     "execution_count": 7,
     "metadata": {},
     "output_type": "execute_result"
    }
   ],
   "source": [
    "%pwd"
   ]
  },
  {
   "cell_type": "markdown",
   "metadata": {},
   "source": [
    "```.env\n",
    "MLFLOW_TRACKING_URI=https://dagshub.com/SaadMalik0011/Kidney-Disease-Classification-With-MLOps.mlflow/\n",
    "MLFLOW_TRACKING_USERNAME=SaadMalik0011\n",
    "MLFLOW_TRACKING_PASSWORD=c74fa845dcdcef2b48d107eac0769b0fc7a864fb\n",
    "```"
   ]
  },
  {
   "cell_type": "code",
   "execution_count": null,
   "metadata": {},
   "outputs": [
    {
     "data": {
      "text/plain": [
       "True"
      ]
     },
     "execution_count": 8,
     "metadata": {},
     "output_type": "execute_result"
    }
   ],
   "source": []
  },
  {
   "cell_type": "code",
   "execution_count": null,
   "metadata": {},
   "outputs": [],
   "source": [
    "import tensorflow as tf\n",
    "\n",
    "model = tf.keras.models.load_model(\"models/training/model.h5\")\n"
   ]
  },
  {
   "cell_type": "markdown",
   "metadata": {},
   "source": [
    "## 1. Update config.yaml"
   ]
  },
  {
   "cell_type": "markdown",
   "metadata": {},
   "source": [
    "```yaml\n",
    "evaluation:\n",
    "  mlflow_uri: https://dagshub.com/SaadMalik0011/Kidney-Disease-Classification-With-MLOps.mlflow/\n",
    "```"
   ]
  },
  {
   "cell_type": "markdown",
   "metadata": {},
   "source": [
    "## 4. Update the entity"
   ]
  },
  {
   "cell_type": "code",
   "execution_count": 47,
   "metadata": {},
   "outputs": [],
   "source": [
    "from dataclasses import dataclass\n",
    "from pathlib import Path\n",
    "\n",
    "@dataclass(frozen=True)\n",
    "class EvaluationConfig:\n",
    "    path_of_model: Path\n",
    "    training_data: Path\n",
    "    all_params: dict\n",
    "    mlflow_uri: str\n",
    "    params_image_size: list\n",
    "    params_batch_size: int\n",
    "    params_learning_rate: float\n",
    "    "
   ]
  },
  {
   "cell_type": "markdown",
   "metadata": {},
   "source": [
    "## 5. Update the configuration manager src/config/configuration.py"
   ]
  },
  {
   "cell_type": "code",
   "execution_count": 48,
   "metadata": {},
   "outputs": [],
   "source": [
    "from src.constants import CONFIG_FILE_PATH, PARAMS_FILE_PATH\n",
    "from src.utils.common import read_yaml, create_directories, save_json\n",
    "from src.logger import CustomLogger\n",
    "\n",
    "class ConfigurationManager:\n",
    "    def __init__(\n",
    "        self,\n",
    "        logger: CustomLogger,\n",
    "        config_filepath = CONFIG_FILE_PATH,\n",
    "        params_filepath = PARAMS_FILE_PATH\n",
    "        ):\n",
    "        \n",
    "        self.logger = logger        \n",
    "        self.config = read_yaml(config_filepath, logger=self.logger)\n",
    "        self.params = read_yaml(params_filepath, logger=self.logger)   \n",
    "\n",
    "        create_directories([self.config.model_artifacts_root], logger=self.logger)\n",
    "        \n",
    "    def get_evaluation_config(self) -> EvaluationConfig:\n",
    "        eval_config = EvaluationConfig(\n",
    "            path_of_model=self.config.training.trained_model_path,\n",
    "            training_data=self.config.training.data_path,\n",
    "            mlflow_uri=self.config.evaluation.mlflow_uri,\n",
    "            all_params=self.params,\n",
    "            params_image_size=self.params.IMAGE_SIZE,\n",
    "            params_batch_size=self.params.BATCH_SIZE,\n",
    "            params_learning_rate=self.params.LEARNING_RATE\n",
    "                \n",
    "        )\n",
    "        \n",
    "        return eval_config"
   ]
  },
  {
   "cell_type": "markdown",
   "metadata": {},
   "source": [
    "## 6. Update the components \\[data preprocessing, model training, and so on\\]"
   ]
  },
  {
   "cell_type": "code",
   "execution_count": null,
   "metadata": {},
   "outputs": [],
   "source": [
    "import tensorflow as tf\n",
    "from pathlib import Path\n",
    "import mlflow\n",
    "import mlflow.keras\n",
    "from urllib.parse import urlparse\n",
    "from dotenv import load_dotenv\n",
    "\n",
    "load_dotenv()\n",
    "\n",
    "class Evaluation:\n",
    "    def __init__(self, config: EvaluationConfig):\n",
    "        self.config = config\n",
    "        \n",
    "        \n",
    "    def test_generator(self, test_generator_logger: CustomLogger):\n",
    "    \n",
    "        try:\n",
    "            \n",
    "            \n",
    "            ########## kwargs start ########## \n",
    "            \n",
    "            datagenerator_kwargs = dict(\n",
    "                rescale=1./255,\n",
    "                validation_split=0.30\n",
    "            )\n",
    "            \n",
    "            dataflow_kwargs = dict(\n",
    "                target_size = self.config.params_image_size[:-1],\n",
    "                batch_size = self.config.params_batch_size,\n",
    "                interpolation = \"bilinear\"\n",
    "            )\n",
    "            \n",
    "            test_specific_kwargs = dict(\n",
    "                directory = self.config.training_data,\n",
    "                subset=\"validation\",\n",
    "                shuffle = False,\n",
    "                class_mode = \"categorical\"\n",
    "            )\n",
    "            \n",
    "            \n",
    "            ########## kwargs end ########## \n",
    "            \n",
    "\n",
    "                    \n",
    "            ########## test datagenerator start ########## \n",
    "            test_datagenerator = tf.keras.preprocessing.image.ImageDataGenerator(**datagenerator_kwargs)\n",
    "            \n",
    "            self.test_generator = test_datagenerator.flow_from_directory(\n",
    "                **test_specific_kwargs,\n",
    "                **dataflow_kwargs\n",
    "            )\n",
    "            \n",
    "            test_generator_logger.save_logs(msg=f\"Generated Validation generator successfully with these \\ndatagenerator_kwargs: {datagenerator_kwargs},\\ndataflow_kwargs: {test_specific_kwargs, dataflow_kwargs}\", log_level='info')\n",
    "            \n",
    "            ########## test datagenerator end ##########\n",
    "            \n",
    "        except Exception as e:\n",
    "            test_generator_logger.save_logs(msg=f\"Error in creating train and validation Generators. Error: {e}\",log_level=\"error\")\n",
    "            raise e\n",
    "        \n",
    "        \n",
    "    @staticmethod\n",
    "    def load_model(path: Path, logger: CustomLogger) -> tf.keras.Model:\n",
    "        try:\n",
    "            model = tf.keras.models.load_model(path)\n",
    "            logger.save_logs(msg=f\"Model loaded from {path} successfully.\", log_level=\"info\")\n",
    "        except Exception as e:\n",
    "            logger.save_logs(msg=f\"Failed to load model from {path} with Error: {e}\", log_level=\"error\")\n",
    "            raise e\n",
    "        \n",
    "        return model\n",
    "    \n",
    "    def evaluate(self, evaluation_logger:CustomLogger):\n",
    "        self.model = self.load_model(self.config.path_of_model, evaluation_logger)\n",
    "            \n",
    "        self.model.compile(\n",
    "            optimizer=tf.keras.optimizers.SGD(learning_rate=self.config.params_learning_rate),\n",
    "            loss=\"categorical_crossentropy\",\n",
    "            metrics=[\"accuracy\"]\n",
    "            )\n",
    "        \n",
    "        self.test_generator(test_generator_logger=evaluation_logger)\n",
    "        self.score = self.model.evaluate(self.test_generator)\n",
    "        self.save_score(evaluation_logger)\n",
    "        \n",
    "    def save_score(self, save_score_logger: CustomLogger):\n",
    "        scores = {\"loss\": self.score[0], \"accuracy\":self.score[1]}\n",
    "        save_json(path=Path(\"scores.json\"), data=scores, logger=save_score_logger)\n",
    "        \n",
    "    def log_into_mlflow(self, mlflow_logger: CustomLogger):\n",
    "        try:\n",
    "            mlflow.set_registry_uri(self.config.mlflow_uri)\n",
    "            tracking_url_type_store = urlparse(mlflow.get_tracking_uri()).scheme\n",
    "            \n",
    "            with mlflow.start_run():\n",
    "                mlflow.log_params(self.config.all_params)\n",
    "                mlflow.log_metrics(\n",
    "                    {\"loss\": self.score[0], \"accuracy\":self.score[1]}\n",
    "                )\n",
    "                # Model Registry does not work with file store\n",
    "                if tracking_url_type_store != \"file\":\n",
    "                    \n",
    "                    # Register the mode\n",
    "                    # There are other ways to use the Model Registry, which depends on the use case,\n",
    "                    # Please refer to the doc for more information:\n",
    "                    # https://mlflow.org/docs/latest/model-registry.html#api-workflow\n",
    "                    \n",
    "                    mlflow.keras.log_model(self.model, \"model\", registered_model_name=\"VGG16Model\")\n",
    "                else:\n",
    "                    mlflow.keras.log_model(self.model, \"model\")\n",
    "        \n",
    "            mlflow_logger.save_logs(msg=\"MLFlow Logging Successful\", log_level=\"info\")\n",
    "        \n",
    "        except Exception as e:\n",
    "            mlflow_logger.save_logs(msg=f\"MLFlow Logger failed to execute. Error: {e}\", log_level=\"error\")\n",
    "                    \n",
    "    "
   ]
  },
  {
   "cell_type": "markdown",
   "metadata": {},
   "source": [
    "## 7. Update the pipeline"
   ]
  },
  {
   "cell_type": "code",
   "execution_count": null,
   "metadata": {},
   "outputs": [
    {
     "name": "stderr",
     "output_type": "stream",
     "text": [
      "INFO:configuration:yaml file: config\\config.yaml loaded successfully\n"
     ]
    },
    {
     "name": "stderr",
     "output_type": "stream",
     "text": [
      "INFO:configuration:yaml file: params.yaml loaded successfully\n",
      "INFO:configuration:created directory at: models\n"
     ]
    },
    {
     "name": "stdout",
     "output_type": "stream",
     "text": [
      "Eager Execution: True\n"
     ]
    },
    {
     "name": "stderr",
     "output_type": "stream",
     "text": [
      "WARNING:absl:Compiled the loaded model, but the compiled metrics have yet to be built. `model.compile_metrics` will be empty until you train or evaluate the model.\n",
      "INFO:evaluation_logger:Model loaded from models/training/model.h5 successfully.\n"
     ]
    },
    {
     "name": "stdout",
     "output_type": "stream",
     "text": [
      "Found 139 images belonging to 2 classes.\n"
     ]
    },
    {
     "name": "stderr",
     "output_type": "stream",
     "text": [
      "INFO:evaluation_logger:Generated Validation generator successfully with these \n",
      "datagenerator_kwargs: {'rescale': 0.00392156862745098, 'validation_split': 0.3},\n",
      "dataflow_kwargs: ({'directory': 'data/raw/kidney-ct-scan-image', 'subset': 'validation', 'shuffle': False, 'class_mode': 'categorical'}, {'target_size': [224, 224], 'batch_size': 32, 'interpolation': 'bilinear'})\n"
     ]
    },
    {
     "name": "stdout",
     "output_type": "stream",
     "text": [
      "\u001b[1m5/5\u001b[0m \u001b[32m━━━━━━━━━━━━━━━━━━━━\u001b[0m\u001b[37m\u001b[0m \u001b[1m19s\u001b[0m 3s/step - accuracy: 0.7247 - loss: 0.6123\n"
     ]
    },
    {
     "name": "stderr",
     "output_type": "stream",
     "text": [
      "INFO:evaluation_logger:json file saved at: scores.json\n",
      "2025/03/20 02:21:54 WARNING mlflow.keras.save: You are saving a Keras model without specifying model signature.\n",
      "2025/03/20 02:22:14 WARNING mlflow.models.model: Model logged without a signature and input example. Please set `input_example` parameter when logging the model to auto infer the model signature.\n",
      "Registered model 'VGG16Model' already exists. Creating a new version of this model...\n",
      "2025/03/20 02:25:12 INFO mlflow.store.model_registry.abstract_store: Waiting up to 300 seconds for model version to finish creation. Model name: VGG16Model, version 4\n",
      "Created version '4' of model 'VGG16Model'.\n"
     ]
    },
    {
     "name": "stdout",
     "output_type": "stream",
     "text": [
      "🏃 View run intelligent-koi-632 at: https://dagshub.com/SaadMalik0011/Kidney-Disease-Classification-With-MLOps.mlflow/#/experiments/0/runs/1e120394caec405b80ac4aa8775e9838\n",
      "🧪 View experiment at: https://dagshub.com/SaadMalik0011/Kidney-Disease-Classification-With-MLOps.mlflow/#/experiments/0\n"
     ]
    },
    {
     "name": "stderr",
     "output_type": "stream",
     "text": [
      "INFO:mlflow_logger:MLFlow Logging Successful\n"
     ]
    }
   ],
   "source": [
    "from src.logger import create_log_path\n",
    "import logging\n",
    "\n",
    "# path to save the log files\n",
    "evaluation_logger_log_file_path = create_log_path(\"evaluation/evaluation_logger\")\n",
    "evaluation_logger = CustomLogger(logger_name=\"evaluation_logger\", log_filename=evaluation_logger_log_file_path)\n",
    "evaluation_logger.set_log_level(level=logging.INFO)\n",
    "\n",
    "\n",
    "mlflow_logger_log_file_path = create_log_path(\"evaluation/mlflow_logger\")\n",
    "mlflow_logger = CustomLogger(logger_name=\"mlflow_logger\", log_filename=mlflow_logger_log_file_path)\n",
    "mlflow_logger.set_log_level(level=logging.INFO)\n",
    "\n",
    "\n",
    "configuration_log_file_path = create_log_path(\"configuration\")\n",
    "configuration_logger = CustomLogger(logger_name=\"configuration\", log_filename=configuration_log_file_path)\n",
    "configuration_logger.set_log_level(level=logging.INFO)\n",
    "\n",
    "############################## ERROR CORRECTION START ##########################\n",
    "tf.config.run_functions_eagerly(True)\n",
    "print(\"Eager Execution:\", tf.executing_eagerly())  # Check if enabled\n",
    "\n",
    "try:\n",
    "    config = ConfigurationManager(configuration_logger)\n",
    "    eval_config = config.get_evaluation_config()\n",
    "    \n",
    "    evaluation = Evaluation(eval_config)\n",
    "    evaluation.evaluate(evaluation_logger)\n",
    "    evaluation.log_into_mlflow(mlflow_logger)\n",
    "    \n",
    "    \n",
    "except Exception as e:\n",
    "    raise e"
   ]
  },
  {
   "cell_type": "code",
   "execution_count": null,
   "metadata": {},
   "outputs": [],
   "source": []
  }
 ],
 "metadata": {
  "kernelspec": {
   "display_name": ".venv",
   "language": "python",
   "name": "python3"
  },
  "language_info": {
   "codemirror_mode": {
    "name": "ipython",
    "version": 3
   },
   "file_extension": ".py",
   "mimetype": "text/x-python",
   "name": "python",
   "nbconvert_exporter": "python",
   "pygments_lexer": "ipython3",
   "version": "3.12.9"
  }
 },
 "nbformat": 4,
 "nbformat_minor": 2
}
