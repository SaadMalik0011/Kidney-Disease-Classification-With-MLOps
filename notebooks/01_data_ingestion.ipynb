{
 "cells": [
  {
   "cell_type": "code",
   "execution_count": 1,
   "metadata": {},
   "outputs": [],
   "source": [
    "import os"
   ]
  },
  {
   "cell_type": "code",
   "execution_count": 2,
   "metadata": {},
   "outputs": [
    {
     "data": {
      "text/plain": [
       "'c:\\\\Users\\\\PMLS\\\\Desktop\\\\Jupyter notebook\\\\Campusx Codes\\\\Deep-Learning-Project\\\\cnnclassifier\\\\notebooks'"
      ]
     },
     "execution_count": 2,
     "metadata": {},
     "output_type": "execute_result"
    }
   ],
   "source": [
    "%pwd"
   ]
  },
  {
   "cell_type": "code",
   "execution_count": 3,
   "metadata": {},
   "outputs": [],
   "source": [
    "os.chdir(\"../\")"
   ]
  },
  {
   "cell_type": "code",
   "execution_count": 4,
   "metadata": {},
   "outputs": [
    {
     "data": {
      "text/plain": [
       "'c:\\\\Users\\\\PMLS\\\\Desktop\\\\Jupyter notebook\\\\Campusx Codes\\\\Deep-Learning-Project\\\\cnnclassifier'"
      ]
     },
     "execution_count": 4,
     "metadata": {},
     "output_type": "execute_result"
    }
   ],
   "source": [
    "%pwd"
   ]
  },
  {
   "cell_type": "markdown",
   "metadata": {},
   "source": [
    "## 1. Update config.yaml"
   ]
  },
  {
   "cell_type": "markdown",
   "metadata": {},
   "source": [
    "```yaml\n",
    "data_artifacts_root: data\n",
    "\n",
    "\n",
    "data_ingestion:\n",
    "  root_dir: data/zipped\n",
    "  source_URL: https://drive.google.com/file/d/1vlhZ5c7abUKF8xXERIw6m9Te8fW7ohw3/view?usp=sharing\n",
    "  local_data_file: data/zipped/data.zip\n",
    "  unzip_dir: data/raw\n",
    "\n",
    "```"
   ]
  },
  {
   "cell_type": "markdown",
   "metadata": {},
   "source": [
    "## 3. Update params.yaml"
   ]
  },
  {
   "cell_type": "markdown",
   "metadata": {},
   "source": [
    "Don't leave params.yaml file empty, it will throw error, so filling it with dummy key value pair.\n",
    "```yaml\n",
    "key: val\n",
    "```"
   ]
  },
  {
   "cell_type": "markdown",
   "metadata": {},
   "source": [
    "## 3.1 Update src/constant/\\_\\_init\\_\\_.py"
   ]
  },
  {
   "cell_type": "code",
   "execution_count": 5,
   "metadata": {},
   "outputs": [],
   "source": [
    "from pathlib import Path\n",
    "\n",
    "CONFIG_FILE_PATH = Path(\"config/config.yaml\")\n",
    "PARAMS_FILE_PATH = Path(\"params.yaml\")"
   ]
  },
  {
   "cell_type": "markdown",
   "metadata": {},
   "source": [
    "## 4. Update the entity"
   ]
  },
  {
   "cell_type": "code",
   "execution_count": 11,
   "metadata": {},
   "outputs": [],
   "source": [
    "# All of the variables which are written in config.yaml and specifying their types\n",
    "\n",
    "from dataclasses import dataclass\n",
    "from pathlib import Path\n",
    "\n",
    "@dataclass(frozen=True)\n",
    "class DataIngestionConfig:\n",
    "    root_dir: Path\n",
    "    source_URL: str\n",
    "    local_data_file: Path\n",
    "    unzip_dir: Path"
   ]
  },
  {
   "cell_type": "markdown",
   "metadata": {},
   "source": [
    "## 5. Update the configuration manager src/config/configuration.py"
   ]
  },
  {
   "cell_type": "code",
   "execution_count": 12,
   "metadata": {},
   "outputs": [],
   "source": [
    "from src.constants import *\n",
    "from src.utils.common import read_yaml, create_directories\n",
    "from src.logger import CustomLogger\n",
    "\n",
    "class ConfigurationManager:\n",
    "    def __init__(\n",
    "        self,logger: CustomLogger,\n",
    "        config_filepath = CONFIG_FILE_PATH,\n",
    "        params_filepath = PARAMS_FILE_PATH):\n",
    "        \n",
    "        self.logger = logger\n",
    "        self.config = read_yaml(config_filepath, logger=self.logger)\n",
    "        self.params = read_yaml(params_filepath, logger=self.logger)    \n",
    "\n",
    "        create_directories([self.config.data_artifacts_root], logger=self.logger)\n",
    "        \n",
    "\n",
    "    def get_data_ingestion_config(self) -> DataIngestionConfig:\n",
    "        config = self.config.data_ingestion\n",
    "        \n",
    "        create_directories([config.root_dir], logger=self.logger)\n",
    "        \n",
    "        data_ingestion_config = DataIngestionConfig(\n",
    "            root_dir = config.root_dir,\n",
    "            source_URL=config.source_URL,\n",
    "            local_data_file=config.local_data_file,\n",
    "            unzip_dir=config.unzip_dir\n",
    "        )\n",
    "        \n",
    "        return data_ingestion_config"
   ]
  },
  {
   "cell_type": "markdown",
   "metadata": {},
   "source": [
    "## 6. Update the components \\[data preprocessing, model training, and so on\\]"
   ]
  },
  {
   "cell_type": "code",
   "execution_count": null,
   "metadata": {},
   "outputs": [],
   "source": [
    "import os\n",
    "import zipfile\n",
    "import gdown\n",
    "from src.logger import CustomLogger\n",
    "\n",
    "class DataIngestion:\n",
    "    def __init__(self, config: DataIngestionConfig):\n",
    "        self.config = config        \n",
    "        \n",
    "    def download_file(self, download_logger: CustomLogger) -> str:\n",
    "        '''\n",
    "        Fetch data from the url\n",
    "        '''\n",
    "        \n",
    "        try:\n",
    "            dataset_url = self.config.source_URL\n",
    "            zip_download_dir = self.config.local_data_file\n",
    "            os.makedirs(self.config.root_dir, exist_ok=True)\n",
    "            download_logger.save_logs(msg = f\"Downloading data from {dataset_url} to {zip_download_dir} successfully\", log_level = \"info\")\n",
    "            \n",
    "            file_id = dataset_url.split(\"/\")[-2]\n",
    "            prefix = prefix = 'https://drive.google.com/uc?/export=download&id='\n",
    "            gdown.download(prefix+file_id, zip_download_dir)\n",
    "            \n",
    "            download_logger.save_logs(msg = f\"Data downloaded from {dataset_url} into file {zip_download_dir} successfully\", log_level = \"info\")\n",
    "        \n",
    "        except Exception as e:\n",
    "            download_logger.save_logs(msg = f\"Error in downloading data from {dataset_url} into file {zip_download_dir}\", log_level = \"error\")\n",
    "            raise e\n",
    "        \n",
    "        \n",
    "    def extract_zip_file(self, extract_logger: CustomLogger) -> str:\n",
    "        \"\"\"\n",
    "        zip file path: str\n",
    "        Extracts the zip file into the data directory\n",
    "        Function returns None\n",
    "        \"\"\"\n",
    "        \n",
    "        try:\n",
    "            unzip_path = self.config.unzip_dir\n",
    "            os.makedirs(unzip_path, exist_ok=True)\n",
    "            with zipfile.ZipFile(self.config.local_data_file, 'r') as zip_ref:\n",
    "                zip_ref.extractall(unzip_path)\n",
    "                \n",
    "            extract_logger.save_logs(msg = f\"Data extracted from {self.config.local_data_file} into {unzip_path} Successfully\", log_level = \"info\")\n",
    "            \n",
    "        except Exception as e:\n",
    "            extract_logger.save_logs(msg = f\"Error in extracting data from {self.config.local_data_file} into {unzip_path}: {e}\", log_level = \"error\")\n",
    "            raise e"
   ]
  },
  {
   "cell_type": "markdown",
   "metadata": {},
   "source": [
    "## 7. Update the pipeline"
   ]
  },
  {
   "cell_type": "code",
   "execution_count": 14,
   "metadata": {},
   "outputs": [
    {
     "name": "stderr",
     "output_type": "stream",
     "text": [
      "Downloading...\n",
      "From (original): https://drive.google.com/uc?/export=download&id=1vlhZ5c7abUKF8xXERIw6m9Te8fW7ohw3\n",
      "From (redirected): https://drive.google.com/uc?%2Fexport=download&id=1vlhZ5c7abUKF8xXERIw6m9Te8fW7ohw3&confirm=t&uuid=c1eed570-f0f5-4a62-afe9-cd626a6ad2f4\n",
      "To: c:\\Users\\PMLS\\Desktop\\Jupyter notebook\\Campusx Codes\\Deep-Learning-Project\\cnnclassifier\\data\\zipped\\data.zip\n",
      "100%|██████████| 57.7M/57.7M [02:39<00:00, 362kB/s]\n"
     ]
    }
   ],
   "source": [
    "from src.logger import create_log_path, CustomLogger\n",
    "import logging\n",
    "\n",
    "# path to save the log files\n",
    "download_log_file_path = create_log_path(\"download_dataset\")\n",
    "download_data_logger = CustomLogger(logger_name=\"download_dataset\", log_filename=download_log_file_path)\n",
    "download_data_logger.set_log_level(level=logging.INFO)\n",
    "\n",
    "extract_log_file_path = create_log_path(\"extract_dataset\")\n",
    "extract_data_logger = CustomLogger(logger_name=\"extract_dataset\", log_filename=extract_log_file_path)\n",
    "extract_data_logger.set_log_level(level=logging.INFO)\n",
    "\n",
    "data_log_file_path = create_log_path(\"data_ingestion\")\n",
    "data_logger = CustomLogger(logger_name=\"data_ingestion\", log_filename=data_log_file_path)\n",
    "data_logger.set_log_level(level=logging.INFO)\n",
    "\n",
    "\n",
    "try:\n",
    "    config = ConfigurationManager(data_logger)\n",
    "    data_ingestion_config = config.get_data_ingestion_config()\n",
    "    data_ingestion = DataIngestion(config=data_ingestion_config)\n",
    "    data_ingestion.download_file(download_logger=download_data_logger)\n",
    "    data_ingestion.extract_zip_file(extract_logger=extract_data_logger)\n",
    "except Exception as e:\n",
    "    data_logger.save_logs(msg = f\"Error in Data Ingestion {e}\", log_level = \"error\")\n",
    "    raise e"
   ]
  },
  {
   "cell_type": "markdown",
   "metadata": {},
   "source": [
    "## 8. Update the main.py"
   ]
  },
  {
   "cell_type": "code",
   "execution_count": null,
   "metadata": {},
   "outputs": [],
   "source": [
    "# path to save the log files\n",
    "download_log_file_path = create_log_path(\"download_dataset\")\n",
    "download_data_logger = CustomLogger(\n",
    "    logger_name=\"download_dataset\", log_filename=download_log_file_path\n",
    ")\n",
    "download_data_logger.set_log_level(level=logging.INFO)\n",
    "\n",
    "extract_log_file_path = create_log_path(\"extract_dataset\")\n",
    "extract_data_logger = CustomLogger(\n",
    "    logger_name=\"extract_dataset\", log_filename=extract_log_file_path\n",
    ")\n",
    "extract_data_logger.set_log_level(level=logging.INFO)\n",
    "\n",
    "data_log_file_path = create_log_path(\"data_ingestion\")\n",
    "data_logger = CustomLogger(\n",
    "    logger_name=\"data_ingestion\", log_filename=data_log_file_path\n",
    ")\n",
    "data_logger.set_log_level(level=logging.INFO)\n",
    "\n",
    "pipeline_log_file_path = create_log_path(\"pipeline\")\n",
    "pipeline_logger = CustomLogger(\n",
    "    logger_name=\"pipeline\", log_filename=pipeline_log_file_path\n",
    ")\n",
    "pipeline_logger.set_log_level(level=logging.INFO)\n",
    "\n",
    "try:\n",
    "    pipeline_logger.save_logs(\n",
    "        msg=f\">>>>>>>>>>>> stage {STAGE_NAME} started <<<<<<<<<<<<\",\n",
    "        log_level=\"info\",\n",
    "    )\n",
    "    obj = DataIngestionTrainingPipeline(\n",
    "        download_data_logger=download_data_logger,\n",
    "        extract_data_logger=extract_data_logger,\n",
    "        data_logger=data_logger,\n",
    "    )\n",
    "    obj.main()\n",
    "    pipeline_logger.save_logs(\n",
    "        msg=f\">>>>>>>>>>>> stage {STAGE_NAME} completed <<<<<<<<<<<<\\n\\nx============x\",\n",
    "        log_level=\"info\",\n",
    "    )\n",
    "except Exception as e:\n",
    "    pipeline_logger.save_logs(msg=f\"Error in {STAGE_NAME} {e}\", log_level=\"error\")\n",
    "    raise e\n"
   ]
  },
  {
   "cell_type": "markdown",
   "metadata": {},
   "source": [
    "## 9. Update the dvc.yaml"
   ]
  },
  {
   "cell_type": "markdown",
   "metadata": {},
   "source": [
    "## 10. app.py"
   ]
  },
  {
   "cell_type": "code",
   "execution_count": null,
   "metadata": {},
   "outputs": [],
   "source": []
  },
  {
   "cell_type": "code",
   "execution_count": null,
   "metadata": {},
   "outputs": [],
   "source": []
  }
 ],
 "metadata": {
  "kernelspec": {
   "display_name": ".venv",
   "language": "python",
   "name": "python3"
  },
  "language_info": {
   "codemirror_mode": {
    "name": "ipython",
    "version": 3
   },
   "file_extension": ".py",
   "mimetype": "text/x-python",
   "name": "python",
   "nbconvert_exporter": "python",
   "pygments_lexer": "ipython3",
   "version": "3.12.9"
  }
 },
 "nbformat": 4,
 "nbformat_minor": 2
}
